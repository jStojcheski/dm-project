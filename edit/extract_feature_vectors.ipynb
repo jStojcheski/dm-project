{
 "cells": [
  {
   "cell_type": "markdown",
   "metadata": {},
   "source": [
    "### Извлекување на карактеристики од податоците на ниво на објект (CustomerID). За секој објект се гради по еден вектор од карактеристики со следниве атрибути:\n",
    "   - Број на планирани посети\n",
    "   - Број на извршени планирани посети\n",
    "   - Број на неизвршени планирани посети\n",
    "   - Број на адхок посети\n",
    "   - Број на валидации (посети од контролор)\n",
    "   - Средна вредност за SAPE коефициенти\n",
    "   - Стандардна девијација за SAPE коефициенти\n",
    "   - Средна вредност за APE коефициенти\n",
    "   - Стандардна девијација за APE коефициенти\n",
    "   - Квадратна разлика помеѓу средните вредности за SAPE и APE коефициентите\n",
    "   - Средна вредност за FPE коефициенти\n",
    "   - Стандардна девијација за FPE коефициенти\n",
    "   - Број на 'ok' валидации\n",
    "   - Број на 'not ok' валидации\n",
    "   - Процент на 'ok' валидации\n",
    "   - Процент на 'not ok' валидации\n"
   ]
  },
  {
   "cell_type": "code",
   "execution_count": 172,
   "metadata": {},
   "outputs": [],
   "source": [
    "import pandas as pd\n",
    "import numpy as np"
   ]
  },
  {
   "cell_type": "code",
   "execution_count": 173,
   "metadata": {
    "scrolled": true
   },
   "outputs": [],
   "source": [
    "df = pd.read_csv('dataset/Spenser_1_7_remove_v22_treshold.tsv',\n",
    "                 delimiter='\\t')"
   ]
  },
  {
   "cell_type": "code",
   "execution_count": 174,
   "metadata": {},
   "outputs": [],
   "source": [
    "expert_vectors = dict()\n",
    "unique_customers = set(df.CustomerID)"
   ]
  },
  {
   "cell_type": "code",
   "execution_count": 175,
   "metadata": {},
   "outputs": [],
   "source": [
    "for customer in unique_customers:\n",
    "    df_customer = df[df.CustomerID == customer]\n",
    "    \n",
    "    no_planned_visits = len(df_customer[df_customer.PerformanceEvaluationPlanned == '1'])  #број на планирани посети\n",
    "    no_executed_visits = len(df_customer[df_customer.PerformanceEvaluationExecuted == '1'])  #број на извршени планирани посети\n",
    "    no_not_executed_visits = no_planned_visits - no_executed_visits  #број на неизвршени планирани посети\n",
    "    no_ad_hoc = len(df_customer[df_customer.PerformanceEvaluationAdHoc == '1'])  #број на адхок посети\n",
    "    \n",
    "    mean_sape = np.mean(df_customer.SAPECoeficient)  #средна вредност за SAPE коефициенти\n",
    "    std_sape = np.std(df_customer.SAPECoeficient)  #стандардна девијација за SAPE коефициенти\n",
    "    \n",
    "    mean_fpe = np.mean(df_customer.FPECoeficient)  #средна вредност за FPE коефициенти\n",
    "    std_fpe = np.std(df_customer.FPECoeficient)  #стандардна девијација за FPE коефициенти\n",
    "    \n",
    "    mean_ape = np.mean(df_customer.APECoeficient)  #средна вредност за APE коефициенти\n",
    "    std_ape = np.std(df_customer.APECoeficient)  #стандардна девијација за APE коефициенти\n",
    "    \n",
    "    squared_err_sape_ape = (mean_sape - mean_ape)**2  # квадратна разлика помеѓу средните вредности за SAPE и APE\n",
    "    \n",
    "    no_ok_validations = len(df_customer[df_customer.OK == 'ok'])  #број на 'ok'валидации (OK == 'ok')\n",
    "    no_not_ok_validations = len(df_customer[df_customer.NOTOK == 'not ok'])  #број на 'not ok' валидации (NOTOK == 'not ok')\n",
    "    \n",
    "    no_validations = len(df_customer[~np.isnan(df_customer.APECoeficient)])  #вкупен број на валидации (посети од контролор)\n",
    "    \n",
    "    percent_not_ok = float(no_not_ok_validations)/no_validations if no_validations != 0 else 0  #процент на 'ok' валидации\n",
    "    percent_ok = float(no_ok_validations)/no_validations if no_validations != 0 else 0  #процент на 'not ok' валидации\n",
    "    \n",
    "    expert_vectors[customer] = [customer, no_planned_visits, no_executed_visits, no_not_executed_visits, no_ad_hoc,\n",
    "                                no_validations, mean_sape, std_sape, mean_ape, std_ape, squared_err_sape_ape, \n",
    "                                mean_fpe, std_fpe, no_ok_validations, no_not_ok_validations, \n",
    "                                percent_ok, percent_not_ok]\n"
   ]
  },
  {
   "cell_type": "code",
   "execution_count": 171,
   "metadata": {},
   "outputs": [],
   "source": [
    "cols = ['CustomerID', 'No_planned_visits', 'No_executed_visits', 'No_not_executed_visits', 'No_adhoc_visits',\n",
    "        'No_validations' ,'Mean_SAPE', 'Std_dev_SAPE', 'Mean_APE', 'Std_dev_APE', 'Squared_error_SAPE_APE', \n",
    "           'Mean_FPE', 'Std_dev_FPE', 'No_ok_validations', 'No_not_ok_validations', 'Percent_ok', 'Percent_not_ok']\n",
    "\n",
    "df_expert_vectors = pd.DataFrame(data=list(expert_vectors.values()), columns=cols)\n",
    "df_expert_vectors = df_expert_vectors.sort_values(by=['CustomerID'])\n",
    "df_expert_vectors.to_csv('dataset/Expert_vectors_by_customerID.tsv', sep='\\t', index=None)"
   ]
  }
 ],
 "metadata": {
  "kernelspec": {
   "display_name": "Python 3",
   "language": "python",
   "name": "python3"
  },
  "language_info": {
   "codemirror_mode": {
    "name": "ipython",
    "version": 3
   },
   "file_extension": ".py",
   "mimetype": "text/x-python",
   "name": "python",
   "nbconvert_exporter": "python",
   "pygments_lexer": "ipython3",
   "version": "3.6.4"
  }
 },
 "nbformat": 4,
 "nbformat_minor": 2
}
