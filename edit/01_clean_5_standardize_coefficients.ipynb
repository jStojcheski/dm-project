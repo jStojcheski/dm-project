{
 "cells": [
  {
   "cell_type": "code",
   "execution_count": 70,
   "metadata": {},
   "outputs": [],
   "source": [
    "import pandas as pd\n",
    "import numpy as np"
   ]
  },
  {
   "cell_type": "code",
   "execution_count": 71,
   "metadata": {},
   "outputs": [],
   "source": [
    "df = pd.read_csv('dataset/Spenser_1_4_calendar.tsv', sep='\\t')"
   ]
  },
  {
   "cell_type": "markdown",
   "metadata": {},
   "source": [
    "Стандардизирање на вредностите од SAPECoeficient атрибутот во формат '#.#'"
   ]
  },
  {
   "cell_type": "code",
   "execution_count": 72,
   "metadata": {},
   "outputs": [],
   "source": [
    "sape_formatted = []\n",
    "\n",
    "for i in range(len(df)):\n",
    "    coefficient_str = df['SAPECoeficient'][i]\n",
    "    if coefficient_str != ' ':\n",
    "        coefficient = round(float(coefficient_str.replace(',','.')), 3)\n",
    "        sape_formatted.append(coefficient)\n",
    "    else:\n",
    "        sape_formatted.append(coefficient_str)\n",
    "\n",
    "df.SAPECoeficient = sape_formatted"
   ]
  },
  {
   "cell_type": "markdown",
   "metadata": {},
   "source": [
    "Стандардизирање на вредностите од APECoeficient атрибутот во формат '#.#'"
   ]
  },
  {
   "cell_type": "code",
   "execution_count": 75,
   "metadata": {},
   "outputs": [],
   "source": [
    "ape_formatted = []\n",
    "\n",
    "for i in range(len(df)):\n",
    "    coefficient_str = df['APECoeficient'][i]\n",
    "    if coefficient_str != ' ':\n",
    "        coefficient = round(float(coefficient_str.replace(',','.')), 3)\n",
    "        ape_formatted.append(coefficient)\n",
    "    else:\n",
    "        ape_formatted.append(coefficient_str)\n",
    "\n",
    "df.APECoeficient = ape_formatted"
   ]
  },
  {
   "cell_type": "markdown",
   "metadata": {},
   "source": [
    "Стандардизирање на вредностите од FAPECoeficient атрибутот во формат '#.#'"
   ]
  },
  {
   "cell_type": "code",
   "execution_count": 79,
   "metadata": {},
   "outputs": [],
   "source": [
    "fpe_formatted = []\n",
    "\n",
    "for i in range(len(df)):\n",
    "    coefficient_str = df['FPECoeficient'][i]\n",
    "    if coefficient_str != ' ':\n",
    "        coefficient = round(float(coefficient_str.replace(',','.')), 3)\n",
    "        fpe_formatted.append(coefficient)\n",
    "    else:\n",
    "        fpe_formatted.append(coefficient_str)\n",
    "\n",
    "df.FPECoeficient = fpe_formatted"
   ]
  },
  {
   "cell_type": "code",
   "execution_count": 82,
   "metadata": {},
   "outputs": [],
   "source": [
    "df.to_csv('dataset/Spenser_1_5_standardize_coefficients.tsv', sep='\\t', index=None)"
   ]
  }
 ],
 "metadata": {
  "kernelspec": {
   "display_name": "Python 3",
   "language": "python",
   "name": "python3"
  },
  "language_info": {
   "codemirror_mode": {
    "name": "ipython",
    "version": 3
   },
   "file_extension": ".py",
   "mimetype": "text/x-python",
   "name": "python",
   "nbconvert_exporter": "python",
   "pygments_lexer": "ipython3",
   "version": "3.6.4"
  }
 },
 "nbformat": 4,
 "nbformat_minor": 2
}
