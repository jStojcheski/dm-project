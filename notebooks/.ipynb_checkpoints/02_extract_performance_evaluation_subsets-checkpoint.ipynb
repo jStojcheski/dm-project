{
 "cells": [
  {
   "cell_type": "markdown",
   "metadata": {},
   "source": [
    "### Извлекување на подмножества од сите можни комбинации за PerformanceEvaluationPlanned, PerformanceEvaluationExecuted и PerformanceEvaluationAdHoc"
   ]
  },
  {
   "cell_type": "code",
   "execution_count": 1,
   "metadata": {
    "collapsed": true
   },
   "outputs": [],
   "source": [
    "import pandas as pd"
   ]
  },
  {
   "cell_type": "code",
   "execution_count": 2,
   "metadata": {},
   "outputs": [
    {
     "data": {
      "text/html": [
       "<div>\n",
       "<style scoped>\n",
       "    .dataframe tbody tr th:only-of-type {\n",
       "        vertical-align: middle;\n",
       "    }\n",
       "\n",
       "    .dataframe tbody tr th {\n",
       "        vertical-align: top;\n",
       "    }\n",
       "\n",
       "    .dataframe thead th {\n",
       "        text-align: right;\n",
       "    }\n",
       "</style>\n",
       "<table border=\"1\" class=\"dataframe\">\n",
       "  <thead>\n",
       "    <tr style=\"text-align: right;\">\n",
       "      <th></th>\n",
       "      <th>CustomerID</th>\n",
       "      <th>Calendarday</th>\n",
       "      <th>month</th>\n",
       "      <th>PerformanceEvaluationPlanned</th>\n",
       "      <th>PerformanceEvaluationExecuted</th>\n",
       "      <th>PerformanceEvaluationAdHoc</th>\n",
       "      <th>TERRID</th>\n",
       "      <th>SAPECCSalesGroup</th>\n",
       "      <th>SAPECoeficient</th>\n",
       "      <th>APECoeficient</th>\n",
       "      <th>FPECoeficient</th>\n",
       "      <th>SAMEDAYVISIT</th>\n",
       "      <th>OVERDUE</th>\n",
       "      <th>UNDERDUE</th>\n",
       "      <th>OK</th>\n",
       "      <th>NOTOK</th>\n",
       "      <th>STATUS</th>\n",
       "      <th>OVERDUEDAYS</th>\n",
       "    </tr>\n",
       "    <tr>\n",
       "      <th>XLS_RowNumber</th>\n",
       "      <th></th>\n",
       "      <th></th>\n",
       "      <th></th>\n",
       "      <th></th>\n",
       "      <th></th>\n",
       "      <th></th>\n",
       "      <th></th>\n",
       "      <th></th>\n",
       "      <th></th>\n",
       "      <th></th>\n",
       "      <th></th>\n",
       "      <th></th>\n",
       "      <th></th>\n",
       "      <th></th>\n",
       "      <th></th>\n",
       "      <th></th>\n",
       "      <th></th>\n",
       "      <th></th>\n",
       "    </tr>\n",
       "  </thead>\n",
       "  <tbody>\n",
       "    <tr>\n",
       "      <th>2</th>\n",
       "      <td>100000136</td>\n",
       "      <td>2017-05-01</td>\n",
       "      <td>5</td>\n",
       "      <td>0</td>\n",
       "      <td></td>\n",
       "      <td></td>\n",
       "      <td>Employee 44</td>\n",
       "      <td>Team 1</td>\n",
       "      <td>NaN</td>\n",
       "      <td>NaN</td>\n",
       "      <td>NaN</td>\n",
       "      <td></td>\n",
       "      <td></td>\n",
       "      <td></td>\n",
       "      <td></td>\n",
       "      <td></td>\n",
       "      <td></td>\n",
       "      <td></td>\n",
       "    </tr>\n",
       "    <tr>\n",
       "      <th>3</th>\n",
       "      <td>100000136</td>\n",
       "      <td>2017-05-04</td>\n",
       "      <td>5</td>\n",
       "      <td>1</td>\n",
       "      <td>1</td>\n",
       "      <td></td>\n",
       "      <td>Employee 44</td>\n",
       "      <td>Team 1</td>\n",
       "      <td>90.987</td>\n",
       "      <td>NaN</td>\n",
       "      <td>90.987</td>\n",
       "      <td></td>\n",
       "      <td></td>\n",
       "      <td></td>\n",
       "      <td></td>\n",
       "      <td></td>\n",
       "      <td></td>\n",
       "      <td></td>\n",
       "    </tr>\n",
       "    <tr>\n",
       "      <th>4</th>\n",
       "      <td>100000136</td>\n",
       "      <td>2017-05-08</td>\n",
       "      <td>5</td>\n",
       "      <td>1</td>\n",
       "      <td>1</td>\n",
       "      <td></td>\n",
       "      <td>Employee 44</td>\n",
       "      <td>Team 1</td>\n",
       "      <td>90.987</td>\n",
       "      <td>NaN</td>\n",
       "      <td>90.987</td>\n",
       "      <td></td>\n",
       "      <td></td>\n",
       "      <td></td>\n",
       "      <td></td>\n",
       "      <td></td>\n",
       "      <td></td>\n",
       "      <td></td>\n",
       "    </tr>\n",
       "    <tr>\n",
       "      <th>5</th>\n",
       "      <td>100000136</td>\n",
       "      <td>2017-05-11</td>\n",
       "      <td>5</td>\n",
       "      <td>1</td>\n",
       "      <td>1</td>\n",
       "      <td></td>\n",
       "      <td>Employee 44</td>\n",
       "      <td>Team 1</td>\n",
       "      <td>90.987</td>\n",
       "      <td>NaN</td>\n",
       "      <td>90.987</td>\n",
       "      <td></td>\n",
       "      <td></td>\n",
       "      <td></td>\n",
       "      <td>ok</td>\n",
       "      <td></td>\n",
       "      <td>ok</td>\n",
       "      <td></td>\n",
       "    </tr>\n",
       "    <tr>\n",
       "      <th>6</th>\n",
       "      <td>100000136</td>\n",
       "      <td>2017-05-12</td>\n",
       "      <td>5</td>\n",
       "      <td></td>\n",
       "      <td></td>\n",
       "      <td></td>\n",
       "      <td>Employee 44</td>\n",
       "      <td>Team 1</td>\n",
       "      <td>NaN</td>\n",
       "      <td>79.498</td>\n",
       "      <td>90.987</td>\n",
       "      <td></td>\n",
       "      <td></td>\n",
       "      <td></td>\n",
       "      <td></td>\n",
       "      <td></td>\n",
       "      <td></td>\n",
       "      <td></td>\n",
       "    </tr>\n",
       "  </tbody>\n",
       "</table>\n",
       "</div>"
      ],
      "text/plain": [
       "               CustomerID Calendarday  month PerformanceEvaluationPlanned  \\\n",
       "XLS_RowNumber                                                               \n",
       "2               100000136  2017-05-01      5                            0   \n",
       "3               100000136  2017-05-04      5                            1   \n",
       "4               100000136  2017-05-08      5                            1   \n",
       "5               100000136  2017-05-11      5                            1   \n",
       "6               100000136  2017-05-12      5                                \n",
       "\n",
       "              PerformanceEvaluationExecuted PerformanceEvaluationAdHoc  \\\n",
       "XLS_RowNumber                                                            \n",
       "2                                                                        \n",
       "3                                         1                              \n",
       "4                                         1                              \n",
       "5                                         1                              \n",
       "6                                                                        \n",
       "\n",
       "                    TERRID SAPECCSalesGroup  SAPECoeficient  APECoeficient  \\\n",
       "XLS_RowNumber                                                                \n",
       "2              Employee 44           Team 1             NaN            NaN   \n",
       "3              Employee 44           Team 1          90.987            NaN   \n",
       "4              Employee 44           Team 1          90.987            NaN   \n",
       "5              Employee 44           Team 1          90.987            NaN   \n",
       "6              Employee 44           Team 1             NaN         79.498   \n",
       "\n",
       "               FPECoeficient SAMEDAYVISIT OVERDUE UNDERDUE  OK NOTOK STATUS  \\\n",
       "XLS_RowNumber                                                                 \n",
       "2                        NaN                                                  \n",
       "3                     90.987                                                  \n",
       "4                     90.987                                                  \n",
       "5                     90.987                                ok           ok   \n",
       "6                     90.987                                                  \n",
       "\n",
       "              OVERDUEDAYS  \n",
       "XLS_RowNumber              \n",
       "2                          \n",
       "3                          \n",
       "4                          \n",
       "5                          \n",
       "6                          "
      ]
     },
     "execution_count": 2,
     "metadata": {},
     "output_type": "execute_result"
    }
   ],
   "source": [
    "df = pd.read_csv('dataset/Spenser_1_7_remove_v22_treshold.tsv', sep='\\t')\n",
    "df.index = pd.RangeIndex(start=2, stop=len(df)+2)\n",
    "df.index.name = 'XLS_RowNumber'\n",
    "df.head()"
   ]
  },
  {
   "cell_type": "markdown",
   "metadata": {},
   "source": [
    "#### Кои се можни вредности за PerformanceEvaluationPlanned, PerformanceEvaluationExecuted и PerformanceEvaluationAdHoc поединечно"
   ]
  },
  {
   "cell_type": "code",
   "execution_count": 3,
   "metadata": {},
   "outputs": [
    {
     "data": {
      "text/plain": [
       "{' ', '0', '1'}"
      ]
     },
     "execution_count": 3,
     "metadata": {},
     "output_type": "execute_result"
    }
   ],
   "source": [
    "set(df['PerformanceEvaluationPlanned'])"
   ]
  },
  {
   "cell_type": "code",
   "execution_count": 4,
   "metadata": {},
   "outputs": [
    {
     "data": {
      "text/plain": [
       "{' ', '1'}"
      ]
     },
     "execution_count": 4,
     "metadata": {},
     "output_type": "execute_result"
    }
   ],
   "source": [
    "set(df['PerformanceEvaluationExecuted'])"
   ]
  },
  {
   "cell_type": "code",
   "execution_count": 5,
   "metadata": {},
   "outputs": [
    {
     "data": {
      "text/plain": [
       "{' ', '1', '2'}"
      ]
     },
     "execution_count": 5,
     "metadata": {},
     "output_type": "execute_result"
    }
   ],
   "source": [
    "set(df['PerformanceEvaluationAdHoc'])"
   ]
  },
  {
   "cell_type": "markdown",
   "metadata": {},
   "source": [
    "#### Сите можни комбинации за (Planned, Executed, AdHoc)"
   ]
  },
  {
   "cell_type": "code",
   "execution_count": 6,
   "metadata": {},
   "outputs": [
    {
     "name": "stdout",
     "output_type": "stream",
     "text": [
      "(' ', ' ', ' ')\n",
      "(' ', ' ', '1')\n",
      "(' ', ' ', '2')\n",
      "('0', ' ', ' ')\n",
      "('0', ' ', '1')\n",
      "('1', ' ', ' ')\n",
      "('1', ' ', '1')\n",
      "('1', '1', ' ')\n",
      "('1', '1', '1')\n"
     ]
    }
   ],
   "source": [
    "s = set(tuple([i[3], i[4], i[5]])\n",
    "        for i in list(df.values))\n",
    "\n",
    "s = sorted(list(s))\n",
    "\n",
    "for i in s:\n",
    "    print(i)"
   ]
  },
  {
   "cell_type": "markdown",
   "metadata": {},
   "source": [
    "#### Извлекување и снимање на подмножества за сите можни комбинации за (Planned, Executed, AdHoc)"
   ]
  },
  {
   "cell_type": "code",
   "execution_count": 7,
   "metadata": {
    "collapsed": true
   },
   "outputs": [],
   "source": [
    "for i in s:\n",
    "    p, e, a = i\n",
    "    t = df[(df.PerformanceEvaluationPlanned == p) &\n",
    "           (df.PerformanceEvaluationExecuted == e) &\n",
    "           (df.PerformanceEvaluationAdHoc == a)]\n",
    "    p = 'n' if p == ' ' else p\n",
    "    e = 'n' if e == ' ' else e\n",
    "    a = 'n' if a == ' ' else a\n",
    "    t.to_csv('subsets/PerformanceEvaluation/{}_{}_{}.tsv'.format(p, e, a), sep='\\t')"
   ]
  }
 ],
 "metadata": {
  "kernelspec": {
   "display_name": "Python 3",
   "language": "python",
   "name": "python3"
  },
  "language_info": {
   "codemirror_mode": {
    "name": "ipython",
    "version": 3
   },
   "file_extension": ".py",
   "mimetype": "text/x-python",
   "name": "python",
   "nbconvert_exporter": "python",
   "pygments_lexer": "ipython3",
   "version": "3.6.4"
  }
 },
 "nbformat": 4,
 "nbformat_minor": 2
}
