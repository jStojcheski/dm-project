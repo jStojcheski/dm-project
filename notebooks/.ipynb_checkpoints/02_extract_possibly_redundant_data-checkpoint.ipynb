{
 "cells": [
  {
   "cell_type": "markdown",
   "metadata": {},
   "source": [
    "### Извлекување на податоци кои што е можно да бидат редундантни. Извлечени се следниве подмножества на податоци:\n",
    "    - Објекти за кои што не е планирана ниту една посета\n",
    "    - Објекти за кои што не е извршена ниту една планирана посета\n",
    "    - Објекти за кои што не е извршена ниту една валидација\n",
    "    - Објекти за кои што не е извршена ниту една планирана посета и ниту една валидација\n",
    "    - Објекти за кои што не е извршена ниту една посета (планирана или адхок) и ниту една валидација"
   ]
  },
  {
   "cell_type": "code",
   "execution_count": 1,
   "metadata": {},
   "outputs": [],
   "source": [
    "import pandas as pd\n",
    "import numpy as np"
   ]
  },
  {
   "cell_type": "code",
   "execution_count": 5,
   "metadata": {},
   "outputs": [],
   "source": [
    "df_features = pd.read_csv('dataset/Feature_vectors_by_customerID.tsv', sep='\\t')\n",
    "df = pd.read_csv('dataset/Spenser_1_7_remove_v22_treshold.tsv', sep='\\t')"
   ]
  },
  {
   "cell_type": "code",
   "execution_count": 47,
   "metadata": {},
   "outputs": [
    {
     "name": "stdout",
     "output_type": "stream",
     "text": [
      "Постојат 1125 објекти за кои што не е планирана ниту една посета од страна на комерцијалист\n"
     ]
    }
   ],
   "source": [
    "no_planned_visits = df_features[df_features['No_planned_visits'] == 0]\n",
    "objects_w_no_planned_visits = no_planned_visits.CustomerID  #објекти за кои не е извршена ниту една планирана посета\n",
    "\n",
    "print('Постојат {} објекти за кои што не е планирана ниту една посета од страна на комерцијалист'.format(len(objects_w_no_planned_visits)))\n",
    "\n",
    "objects_w_no_planned_visits.to_csv('subsets/PossiblyRedundantData/objects_w_no_planned_visits.tsv', sep='\\t', index=None)"
   ]
  },
  {
   "cell_type": "code",
   "execution_count": 32,
   "metadata": {},
   "outputs": [
    {
     "name": "stdout",
     "output_type": "stream",
     "text": [
      "Постојат 1441 објекти за кои што не е извршена ниту една планирана посета од страна на комерцијалист\n"
     ]
    }
   ],
   "source": [
    "no_executed_visits = df_features[df_features['No_executed_visits'] == 0]\n",
    "objects_w_no_executed_visits = no_executed_visits.CustomerID  #објекти за кои не е извршена ниту една планирана посета\n",
    "\n",
    "print('Постојат {} објекти за кои што не е извршена ниту една планирана посета од страна на комерцијалист'.format(len(objects_with_no_executed_visits)))\n",
    "\n",
    "objects_w_no_executed_visits.to_csv('subsets/PossiblyRedundantData/objects_w_no_executed_visits.tsv', sep='\\t', index=None)"
   ]
  },
  {
   "cell_type": "code",
   "execution_count": 34,
   "metadata": {},
   "outputs": [
    {
     "name": "stdout",
     "output_type": "stream",
     "text": [
      "Постојат 3724 објекти за кои што не е извршена ниту една валидација од страна на контролор\n"
     ]
    }
   ],
   "source": [
    "no_validations = df_features[df_features['No_validations'] == 0]\n",
    "objects_w_no_validations = no_validations.CustomerID  #објекти за кои што не е извршена ниту една валидација од страна на контролор\n",
    "\n",
    "print('Постојат {} објекти за кои што не е извршена ниту една валидација од страна на контролор'.format(len(objects_w_no_validations)))\n",
    "\n",
    "objects_w_no_validations.to_csv('subsets/PossiblyRedundantData/objects_w_no_validations.tsv', sep='\\t', index=None)"
   ]
  },
  {
   "cell_type": "code",
   "execution_count": 37,
   "metadata": {},
   "outputs": [
    {
     "name": "stdout",
     "output_type": "stream",
     "text": [
      "Постојат 1417 објекти за кои што не е извршена ниту една планирана посета од страна на комерцијалист и не е извршена ниту една валидација од страна на контролор\n"
     ]
    }
   ],
   "source": [
    "no_validations_nor_executed = df_features[(df_features['No_validations'] == 0) &\n",
    "                                          (df_features['No_executed_visits'] == 0)]\n",
    "\n",
    "objects_w_no_val_nor_executed = no_validations_nor_executed.CustomerID  #објекти за кои што не е извршена ниту една планирана посета од страна на комерцијалист и не е извршена ниту една валидација од страна на контролор\n",
    "\n",
    "print('Постојат {} објекти за кои што не е извршена ниту една планирана посета од страна на комерцијалист и ' \\\n",
    "      'не е извршена ниту една валидација од страна на контролор'.format(len(objects_w_no_val_nor_executed)))\n",
    "\n",
    "objects_w_no_val_nor_executed.to_csv('subsets/PossiblyRedundantData/objects_w_no_val_nor_executed.tsv', sep='\\t', index=None)"
   ]
  },
  {
   "cell_type": "code",
   "execution_count": 39,
   "metadata": {},
   "outputs": [
    {
     "name": "stdout",
     "output_type": "stream",
     "text": [
      "Постојат 1413 oбјекти за кои што не е извршена ниту една планирана, ниту адхок посета од страна на комерцијалист и не е извршена ниту една валидација од страна на контролор\n"
     ]
    }
   ],
   "source": [
    "no_valid_nor_executed_nor_adhoc = df_features[(df_features['No_validations'] == 0) \n",
    "                                              & (df_features['No_executed_visits'] == 0)\n",
    "                                            & (df_features['No_adhoc_visits'] == 0)]\n",
    "\n",
    "objects_w_no_val_nor_executed_nor_adhoc = no_valid_nor_executed_nor_adhoc.CustomerID   #објекти за кои што не е извршена ниту една планирана ниту адхок посета од страна на комерцијалист и не е извршена ниту една валидација од страна на контролор\n",
    "\n",
    "print('Постојат {} oбјекти за кои што не е извршена ниту една планирана, ниту адхок посета од страна на комерцијалист и не е извршена ниту една валидација од страна на контролор'.format(len(objects_w_no_val_nor_executed_nor_adhoc)))\n",
    "\n",
    "objects_w_no_val_nor_executed_nor_adhoc.to_csv('subsets/PossiblyRedundantData/objects_w_no_val_nor_executed_nor_adhoc.tsv', sep='\\t', index=None)"
   ]
  }
 ],
 "metadata": {
  "kernelspec": {
   "display_name": "Python 3",
   "language": "python",
   "name": "python3"
  },
  "language_info": {
   "codemirror_mode": {
    "name": "ipython",
    "version": 3
   },
   "file_extension": ".py",
   "mimetype": "text/x-python",
   "name": "python",
   "nbconvert_exporter": "python",
   "pygments_lexer": "ipython3",
   "version": "3.6.4"
  }
 },
 "nbformat": 4,
 "nbformat_minor": 2
}
