{
 "cells": [
  {
   "cell_type": "markdown",
   "metadata": {},
   "source": [
    "### Модел 1: Отстапувања од вредноста на контролата"
   ]
  },
  {
   "cell_type": "code",
   "execution_count": 8,
   "metadata": {},
   "outputs": [],
   "source": [
    "import matplotlib.pyplot as plt\n",
    "import numpy as np\n",
    "import os\n",
    "import pandas as pd\n",
    "\n",
    "%matplotlib inline"
   ]
  },
  {
   "cell_type": "markdown",
   "metadata": {},
   "source": [
    "#### Поставување на влезен/излезен folder"
   ]
  },
  {
   "cell_type": "code",
   "execution_count": 9,
   "metadata": {},
   "outputs": [],
   "source": [
    "plot_out = '../plots/03_m1_mse'\n",
    "\n",
    "if not os.path.exists(plot_out):\n",
    "    os.makedirs(plot_out)"
   ]
  },
  {
   "cell_type": "markdown",
   "metadata": {},
   "source": [
    "#### Читање на влезните податоци"
   ]
  },
  {
   "cell_type": "code",
   "execution_count": 10,
   "metadata": {},
   "outputs": [
    {
     "data": {
      "text/html": [
       "<div>\n",
       "<style scoped>\n",
       "    .dataframe tbody tr th:only-of-type {\n",
       "        vertical-align: middle;\n",
       "    }\n",
       "\n",
       "    .dataframe tbody tr th {\n",
       "        vertical-align: top;\n",
       "    }\n",
       "\n",
       "    .dataframe thead th {\n",
       "        text-align: right;\n",
       "    }\n",
       "</style>\n",
       "<table border=\"1\" class=\"dataframe\">\n",
       "  <thead>\n",
       "    <tr style=\"text-align: right;\">\n",
       "      <th></th>\n",
       "      <th>CustomerID</th>\n",
       "      <th>Calendarday</th>\n",
       "      <th>month</th>\n",
       "      <th>PerformanceEvaluationPlanned</th>\n",
       "      <th>PerformanceEvaluationExecuted</th>\n",
       "      <th>ExternalEvaluation</th>\n",
       "      <th>TERRID</th>\n",
       "      <th>SAPECCSalesGroup</th>\n",
       "      <th>SAPECoeficient</th>\n",
       "      <th>APECoeficient</th>\n",
       "      <th>FPECoeficient</th>\n",
       "      <th>SAMEDAYVISIT</th>\n",
       "      <th>OVERDUE</th>\n",
       "      <th>UNDERDUE</th>\n",
       "      <th>OK</th>\n",
       "      <th>NOTOK</th>\n",
       "      <th>STATUS</th>\n",
       "      <th>OVERDUEDAYS</th>\n",
       "    </tr>\n",
       "  </thead>\n",
       "  <tbody>\n",
       "    <tr>\n",
       "      <th>1</th>\n",
       "      <td>100000136</td>\n",
       "      <td>2017-05-04</td>\n",
       "      <td>5</td>\n",
       "      <td>1</td>\n",
       "      <td>1</td>\n",
       "      <td>0</td>\n",
       "      <td>44</td>\n",
       "      <td>Team 1</td>\n",
       "      <td>90.987</td>\n",
       "      <td>NaN</td>\n",
       "      <td>90.987</td>\n",
       "      <td></td>\n",
       "      <td></td>\n",
       "      <td></td>\n",
       "      <td></td>\n",
       "      <td></td>\n",
       "      <td></td>\n",
       "      <td></td>\n",
       "    </tr>\n",
       "    <tr>\n",
       "      <th>13979</th>\n",
       "      <td>100001198</td>\n",
       "      <td>2017-06-24</td>\n",
       "      <td>6</td>\n",
       "      <td>0</td>\n",
       "      <td>0</td>\n",
       "      <td>1</td>\n",
       "      <td>6</td>\n",
       "      <td>Team 8</td>\n",
       "      <td>NaN</td>\n",
       "      <td>65.050</td>\n",
       "      <td>73.783</td>\n",
       "      <td></td>\n",
       "      <td></td>\n",
       "      <td></td>\n",
       "      <td></td>\n",
       "      <td></td>\n",
       "      <td></td>\n",
       "      <td></td>\n",
       "    </tr>\n",
       "    <tr>\n",
       "      <th>28224</th>\n",
       "      <td>100002467</td>\n",
       "      <td>2017-06-21</td>\n",
       "      <td>6</td>\n",
       "      <td>1</td>\n",
       "      <td>1</td>\n",
       "      <td>0</td>\n",
       "      <td>5</td>\n",
       "      <td>Team 8</td>\n",
       "      <td>24.185</td>\n",
       "      <td>NaN</td>\n",
       "      <td>24.185</td>\n",
       "      <td></td>\n",
       "      <td></td>\n",
       "      <td></td>\n",
       "      <td>ok</td>\n",
       "      <td></td>\n",
       "      <td>ok</td>\n",
       "      <td></td>\n",
       "    </tr>\n",
       "    <tr>\n",
       "      <th>41553</th>\n",
       "      <td>100003788</td>\n",
       "      <td>2017-12-22</td>\n",
       "      <td>12</td>\n",
       "      <td>1</td>\n",
       "      <td>1</td>\n",
       "      <td>0</td>\n",
       "      <td>60</td>\n",
       "      <td>Team 7</td>\n",
       "      <td>93.463</td>\n",
       "      <td>NaN</td>\n",
       "      <td>94.066</td>\n",
       "      <td></td>\n",
       "      <td></td>\n",
       "      <td></td>\n",
       "      <td></td>\n",
       "      <td></td>\n",
       "      <td></td>\n",
       "      <td></td>\n",
       "    </tr>\n",
       "    <tr>\n",
       "      <th>55455</th>\n",
       "      <td>100005167</td>\n",
       "      <td>2017-11-24</td>\n",
       "      <td>11</td>\n",
       "      <td>1</td>\n",
       "      <td>1</td>\n",
       "      <td>0</td>\n",
       "      <td>47</td>\n",
       "      <td>Team 4</td>\n",
       "      <td>66.746</td>\n",
       "      <td>NaN</td>\n",
       "      <td>66.746</td>\n",
       "      <td></td>\n",
       "      <td></td>\n",
       "      <td></td>\n",
       "      <td></td>\n",
       "      <td></td>\n",
       "      <td></td>\n",
       "      <td></td>\n",
       "    </tr>\n",
       "    <tr>\n",
       "      <th>69401</th>\n",
       "      <td>100006770</td>\n",
       "      <td>2017-08-01</td>\n",
       "      <td>8</td>\n",
       "      <td>1</td>\n",
       "      <td>1</td>\n",
       "      <td>0</td>\n",
       "      <td>24</td>\n",
       "      <td>Team 11</td>\n",
       "      <td>24.575</td>\n",
       "      <td>NaN</td>\n",
       "      <td>24.575</td>\n",
       "      <td></td>\n",
       "      <td></td>\n",
       "      <td></td>\n",
       "      <td></td>\n",
       "      <td></td>\n",
       "      <td></td>\n",
       "      <td></td>\n",
       "    </tr>\n",
       "    <tr>\n",
       "      <th>83346</th>\n",
       "      <td>100008926</td>\n",
       "      <td>2017-06-15</td>\n",
       "      <td>6</td>\n",
       "      <td>1</td>\n",
       "      <td>1</td>\n",
       "      <td>0</td>\n",
       "      <td>65</td>\n",
       "      <td>Team 12</td>\n",
       "      <td>68.858</td>\n",
       "      <td>NaN</td>\n",
       "      <td>73.662</td>\n",
       "      <td></td>\n",
       "      <td></td>\n",
       "      <td></td>\n",
       "      <td></td>\n",
       "      <td></td>\n",
       "      <td></td>\n",
       "      <td></td>\n",
       "    </tr>\n",
       "    <tr>\n",
       "      <th>97263</th>\n",
       "      <td>100014629</td>\n",
       "      <td>2017-08-17</td>\n",
       "      <td>8</td>\n",
       "      <td>0</td>\n",
       "      <td>0</td>\n",
       "      <td>1</td>\n",
       "      <td>33</td>\n",
       "      <td>Team 10</td>\n",
       "      <td>NaN</td>\n",
       "      <td>50.603</td>\n",
       "      <td>43.846</td>\n",
       "      <td></td>\n",
       "      <td></td>\n",
       "      <td></td>\n",
       "      <td></td>\n",
       "      <td></td>\n",
       "      <td></td>\n",
       "      <td></td>\n",
       "    </tr>\n",
       "    <tr>\n",
       "      <th>111324</th>\n",
       "      <td>100021612</td>\n",
       "      <td>2017-10-11</td>\n",
       "      <td>10</td>\n",
       "      <td>0</td>\n",
       "      <td>0</td>\n",
       "      <td>1</td>\n",
       "      <td>34</td>\n",
       "      <td>Team 6</td>\n",
       "      <td>NaN</td>\n",
       "      <td>81.150</td>\n",
       "      <td>86.050</td>\n",
       "      <td></td>\n",
       "      <td></td>\n",
       "      <td></td>\n",
       "      <td></td>\n",
       "      <td></td>\n",
       "      <td></td>\n",
       "      <td></td>\n",
       "    </tr>\n",
       "    <tr>\n",
       "      <th>125322</th>\n",
       "      <td>100023141</td>\n",
       "      <td>2017-12-15</td>\n",
       "      <td>12</td>\n",
       "      <td>1</td>\n",
       "      <td>1</td>\n",
       "      <td>0</td>\n",
       "      <td>56</td>\n",
       "      <td>Team 11</td>\n",
       "      <td>75.455</td>\n",
       "      <td>NaN</td>\n",
       "      <td>75.455</td>\n",
       "      <td></td>\n",
       "      <td></td>\n",
       "      <td></td>\n",
       "      <td></td>\n",
       "      <td></td>\n",
       "      <td></td>\n",
       "      <td></td>\n",
       "    </tr>\n",
       "    <tr>\n",
       "      <th>140273</th>\n",
       "      <td>100024706</td>\n",
       "      <td>2017-11-08</td>\n",
       "      <td>11</td>\n",
       "      <td>1</td>\n",
       "      <td>1</td>\n",
       "      <td>0</td>\n",
       "      <td>59</td>\n",
       "      <td>Team 7</td>\n",
       "      <td>40.815</td>\n",
       "      <td>NaN</td>\n",
       "      <td>52.384</td>\n",
       "      <td></td>\n",
       "      <td></td>\n",
       "      <td></td>\n",
       "      <td></td>\n",
       "      <td></td>\n",
       "      <td></td>\n",
       "      <td></td>\n",
       "    </tr>\n",
       "  </tbody>\n",
       "</table>\n",
       "</div>"
      ],
      "text/plain": [
       "        CustomerID Calendarday  month  PerformanceEvaluationPlanned  \\\n",
       "1        100000136  2017-05-04      5                             1   \n",
       "13979    100001198  2017-06-24      6                             0   \n",
       "28224    100002467  2017-06-21      6                             1   \n",
       "41553    100003788  2017-12-22     12                             1   \n",
       "55455    100005167  2017-11-24     11                             1   \n",
       "69401    100006770  2017-08-01      8                             1   \n",
       "83346    100008926  2017-06-15      6                             1   \n",
       "97263    100014629  2017-08-17      8                             0   \n",
       "111324   100021612  2017-10-11     10                             0   \n",
       "125322   100023141  2017-12-15     12                             1   \n",
       "140273   100024706  2017-11-08     11                             1   \n",
       "\n",
       "        PerformanceEvaluationExecuted  ExternalEvaluation TERRID  \\\n",
       "1                                   1                   0     44   \n",
       "13979                               0                   1      6   \n",
       "28224                               1                   0      5   \n",
       "41553                               1                   0     60   \n",
       "55455                               1                   0     47   \n",
       "69401                               1                   0     24   \n",
       "83346                               1                   0     65   \n",
       "97263                               0                   1     33   \n",
       "111324                              0                   1     34   \n",
       "125322                              1                   0     56   \n",
       "140273                              1                   0     59   \n",
       "\n",
       "       SAPECCSalesGroup  SAPECoeficient  APECoeficient  FPECoeficient  \\\n",
       "1                Team 1          90.987            NaN         90.987   \n",
       "13979            Team 8             NaN         65.050         73.783   \n",
       "28224            Team 8          24.185            NaN         24.185   \n",
       "41553            Team 7          93.463            NaN         94.066   \n",
       "55455            Team 4          66.746            NaN         66.746   \n",
       "69401           Team 11          24.575            NaN         24.575   \n",
       "83346           Team 12          68.858            NaN         73.662   \n",
       "97263           Team 10             NaN         50.603         43.846   \n",
       "111324           Team 6             NaN         81.150         86.050   \n",
       "125322          Team 11          75.455            NaN         75.455   \n",
       "140273           Team 7          40.815            NaN         52.384   \n",
       "\n",
       "       SAMEDAYVISIT OVERDUE UNDERDUE  OK NOTOK STATUS OVERDUEDAYS  \n",
       "1                                                                  \n",
       "13979                                                              \n",
       "28224                                 ok           ok              \n",
       "41553                                                              \n",
       "55455                                                              \n",
       "69401                                                              \n",
       "83346                                                              \n",
       "97263                                                              \n",
       "111324                                                             \n",
       "125322                                                             \n",
       "140273                                                             "
      ]
     },
     "execution_count": 10,
     "metadata": {},
     "output_type": "execute_result"
    }
   ],
   "source": [
    "df = pd.read_csv('../data/dataset/Spenser_1_8_new_format_on_PE_markers.tsv', sep='\\t')\n",
    "\n",
    "# Отстранување на редиците каде нема ниту една вредност за 'SAPECoeficient', 'APECoeficient', 'FPECoeficient'\n",
    "valid_indices = df.index[(df.notna()['SAPECoeficient'] | \\\n",
    "                          df.notna()['APECoeficient'] | \\\n",
    "                          df.notna()['FPECoeficient'])]\n",
    "df['TERRID'] = df['TERRID'].str.replace('Employee ', '')\n",
    "df = df.iloc[valid_indices]\n",
    "\n",
    "# Приказ\n",
    "df[::len(df)//10]"
   ]
  },
  {
   "cell_type": "code",
   "execution_count": 11,
   "metadata": {},
   "outputs": [
    {
     "name": "stdout",
     "output_type": "stream",
     "text": [
      "Остануваат 96837 валидни ставки за работа.\n"
     ]
    }
   ],
   "source": [
    "print(f'Остануваат {len(df)} валидни ставки за работа.')"
   ]
  },
  {
   "cell_type": "markdown",
   "metadata": {},
   "source": [
    "#### Број на записи по вработен (сортирани во опаѓачки редослед)"
   ]
  },
  {
   "cell_type": "code",
   "execution_count": 12,
   "metadata": {},
   "outputs": [
    {
     "data": {
      "text/plain": [
       "[('51', 1873),\n",
       " ('70', 1871),\n",
       " ('39', 1865),\n",
       " ('32', 1850),\n",
       " ('58', 1823),\n",
       " ('64', 1795),\n",
       " ('37', 1757),\n",
       " ('34', 1722),\n",
       " ('21', 1712),\n",
       " ('62', 1696),\n",
       " ('38', 1694),\n",
       " ('7', 1668),\n",
       " ('63', 1648),\n",
       " ('13', 1646),\n",
       " ('14', 1604),\n",
       " ('20', 1548),\n",
       " ('57', 1541),\n",
       " ('54', 1538),\n",
       " ('6', 1536),\n",
       " ('23', 1519),\n",
       " ('60', 1503),\n",
       " ('9', 1465),\n",
       " ('26', 1461),\n",
       " ('49', 1452),\n",
       " ('35', 1436),\n",
       " ('19', 1424),\n",
       " ('1', 1422),\n",
       " ('11', 1405),\n",
       " ('40', 1398),\n",
       " ('28', 1388),\n",
       " ('2', 1380),\n",
       " ('10', 1378),\n",
       " ('8', 1360),\n",
       " ('29', 1352),\n",
       " ('61', 1339),\n",
       " ('33', 1331),\n",
       " ('15', 1304),\n",
       " ('16', 1293),\n",
       " ('53', 1276),\n",
       " ('59', 1269),\n",
       " ('17', 1263),\n",
       " ('22', 1247),\n",
       " ('48', 1241),\n",
       " ('3', 1240),\n",
       " ('41', 1228),\n",
       " ('24', 1223),\n",
       " ('27', 1212),\n",
       " ('45', 1200),\n",
       " ('12', 1188),\n",
       " ('42', 1188),\n",
       " ('66', 1171),\n",
       " ('46', 1154),\n",
       " ('44', 1149),\n",
       " ('43', 1146),\n",
       " ('52', 1143),\n",
       " ('30', 1134),\n",
       " ('50', 1116),\n",
       " ('47', 1114),\n",
       " ('18', 1091),\n",
       " ('74', 1075),\n",
       " ('72', 1071),\n",
       " ('65', 1069),\n",
       " ('71', 1057),\n",
       " ('25', 1055),\n",
       " ('56', 1019),\n",
       " ('73', 932),\n",
       " ('5', 931),\n",
       " ('31', 910),\n",
       " ('68', 908),\n",
       " ('4', 887),\n",
       " ('55', 811),\n",
       " ('69', 649),\n",
       " ('67', 471),\n",
       " ('36', 2)]"
      ]
     },
     "execution_count": 12,
     "metadata": {},
     "output_type": "execute_result"
    }
   ],
   "source": [
    "emp = [(e, len(df[df['TERRID'] == e]))\n",
    "       for e in set(df['TERRID'])]\n",
    "emp.sort(key=lambda e:-e[1])\n",
    "\n",
    "emp"
   ]
  },
  {
   "cell_type": "markdown",
   "metadata": {},
   "source": [
    "#### Формирање на дрво/хиерархија (вработен, продавница, месец)"
   ]
  },
  {
   "cell_type": "code",
   "execution_count": 13,
   "metadata": {},
   "outputs": [
    {
     "name": "stdout",
     "output_type": "stream",
     "text": [
      "6750\n"
     ]
    }
   ],
   "source": [
    "count = 0\n",
    "\n",
    "tree = dict()\n",
    "\n",
    "for e in set(df['TERRID']):\n",
    "    df1 = df[df['TERRID'] == e]\n",
    "    tree[e] = dict()\n",
    "    \n",
    "    for c in set(df1['CustomerID']):\n",
    "        df2 = df1[df1['CustomerID'] == c]\n",
    "        tree[e][c] = dict()\n",
    "        \n",
    "        for m in set(df2['month']):\n",
    "            df3 = df2[df2['month'] == m]\n",
    "            if (df3['ExternalEvaluation'] == 1).sum() > 0:\n",
    "                tree[e][c][m] = df3\n",
    "                count += 1\n",
    "\n",
    "print(count)"
   ]
  },
  {
   "cell_type": "markdown",
   "metadata": {},
   "source": [
    "#### Пресметување на квадратно отстапување од вредноста што ја дала контролата за тој месец\n",
    "\n",
    "- Важи само за вредностите кои се поголеми од таа вредност (комерцијалистот ја \"преценил\" работата на продавницата).\n",
    "- Помалите вредности не влегуваат во пресметката (комерцијалистот ја \"потценил\" работата на продавницата)."
   ]
  },
  {
   "cell_type": "code",
   "execution_count": 14,
   "metadata": {},
   "outputs": [],
   "source": [
    "def deviation(x, m, power=2):\n",
    "    x = x.values\n",
    "    m = m.values\n",
    "    \n",
    "    x = x * (x > m)  # ги зачувува само вредностите кои се поголеми од вредноста на контролата\n",
    "    if (x > m).sum() == 0:  # ако нема такви вредности\n",
    "        return None  \n",
    "\n",
    "    return list(((x - m) ** power) * (x / 100))"
   ]
  },
  {
   "cell_type": "code",
   "execution_count": 15,
   "metadata": {},
   "outputs": [
    {
     "name": "stderr",
     "output_type": "stream",
     "text": [
      "/opt/anaconda/lib/python3.6/site-packages/ipykernel_launcher.py:14: RuntimeWarning: Mean of empty slice.\n",
      "  \n",
      "/opt/anaconda/lib/python3.6/site-packages/numpy/core/_methods.py:80: RuntimeWarning: invalid value encountered in double_scalars\n",
      "  ret = ret.dtype.type(ret / rcount)\n"
     ]
    }
   ],
   "source": [
    "deviations = dict()\n",
    "\n",
    "for e in tree.keys():\n",
    "    deviations[e] = list()\n",
    "    for c in tree[e].keys():\n",
    "        for m in tree[e][c].keys():\n",
    "            df1 = tree[e][c][m]\n",
    "            df1_v = df1[df1['ExternalEvaluation'] == 0]['SAPECoeficient']\n",
    "            df1_c = df1[df1['ExternalEvaluation'] == 1]['APECoeficient']\n",
    "            \n",
    "            if deviation(df1_v, df1_c) is not None:\n",
    "                deviations[e] += deviation(df1_v, df1_c)\n",
    "                \n",
    "    deviations[e] = np.array(deviations[e]).mean()\n",
    "    \n",
    "deviations = pd.DataFrame.from_dict(deviations, orient='index').dropna()\n",
    "deviations.columns = ['MSE']\n",
    "deviations = deviations.sort_values(by='MSE')"
   ]
  },
  {
   "cell_type": "code",
   "execution_count": 18,
   "metadata": {},
   "outputs": [
    {
     "data": {
      "image/png": "[encoded data removed]",
      "text/plain": [
       "<Figure size 1152x648 with 1 Axes>"
      ]
     },
     "metadata": {},
     "output_type": "display_data"
    }
   ],
   "source": [
    "plt.figure(figsize=(16, 9))\n",
    "plt.plot(deviations, 'o')\n",
    "\n",
    "# plt.title('Отстапување на секој запис (вработен, продавница, месец)')\n",
    "plt.xticks(deviations.index, rotation=90)\n",
    "plt.xlabel('Комерцијалист')\n",
    "plt.ylabel('Просечно квадратно отстапување')\n",
    "\n",
    "plt.savefig(f'{plot_out}/Отстапување на секој запис')\n",
    "plt.show()"
   ]
  },
  {
   "cell_type": "code",
   "execution_count": 23,
   "metadata": {},
   "outputs": [
    {
     "data": {
      "image/png": "[encoded data removed]",
      "text/plain": [
       "<Figure size 1152x648 with 1 Axes>"
      ]
     },
     "metadata": {},
     "output_type": "display_data"
    }
   ],
   "source": [
    "plt.figure(figsize=(16, 9))\n",
    "ax = plt.axes()\n",
    "\n",
    "deviations.plot.bar(color='red', alpha=0.4, ax=ax)\n",
    "\n",
    "# plt.title('Просечно квадратно отстапување на секој од вработените на месечно ниво')\n",
    "plt.xlabel('Комерцијалист')\n",
    "plt.ylabel('Просечно квадратно отстапување')\n",
    "plt.legend(loc=2)\n",
    "\n",
    "plt.savefig(f'{plot_out}/Просечно квадратно отстапување на секој од вработените на месечно ниво')\n",
    "plt.show()"
   ]
  },
  {
   "cell_type": "markdown",
   "metadata": {},
   "source": [
    "#### Вкупен број на записи во еден месец"
   ]
  },
  {
   "cell_type": "code",
   "execution_count": 12,
   "metadata": {},
   "outputs": [],
   "source": [
    "entries = list()\n",
    "\n",
    "for e in tree.keys():\n",
    "    for c in tree[e].keys():\n",
    "        for m in tree[e][c].keys():\n",
    "            entries.append(len(tree[e][c][m]))\n",
    "            \n",
    "entries = np.array(entries)"
   ]
  },
  {
   "cell_type": "code",
   "execution_count": 13,
   "metadata": {},
   "outputs": [
    {
     "data": {
      "image/png": "[encoded data removed]",
      "text/plain": [
       "<Figure size 1152x648 with 1 Axes>"
      ]
     },
     "metadata": {},
     "output_type": "display_data"
    }
   ],
   "source": [
    "plt.figure(figsize=(16, 9))\n",
    "plt.hist(entries, bins=len(set(entries)))\n",
    "plt.show()"
   ]
  },
  {
   "cell_type": "code",
   "execution_count": 14,
   "metadata": {},
   "outputs": [
    {
     "data": {
      "text/plain": [
       "1      375\n",
       "2      708\n",
       "3     1424\n",
       "4     1726\n",
       "5     1641\n",
       "6      560\n",
       "7      117\n",
       "8       92\n",
       "9       61\n",
       "10      36\n",
       "11       8\n",
       "12       1\n",
       "14       1\n",
       "dtype: int64"
      ]
     },
     "execution_count": 14,
     "metadata": {},
     "output_type": "execute_result"
    }
   ],
   "source": [
    "entries_series = dict()\n",
    "\n",
    "for entry in set(entries):\n",
    "    entries_series[entry] = (entries == entry).sum()\n",
    "\n",
    "entries_series = pd.Series(entries_series).sort_index()\n",
    "entries_series"
   ]
  }
 ],
 "metadata": {
  "kernelspec": {
   "display_name": "Python 3",
   "language": "python",
   "name": "python3"
  },
  "language_info": {
   "codemirror_mode": {
    "name": "ipython",
    "version": 3
   },
   "file_extension": ".py",
   "mimetype": "text/x-python",
   "name": "python",
   "nbconvert_exporter": "python",
   "pygments_lexer": "ipython3",
   "version": "3.6.5"
  }
 },
 "nbformat": 4,
 "nbformat_minor": 2
}
