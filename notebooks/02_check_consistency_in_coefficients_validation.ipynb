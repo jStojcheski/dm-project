{
 "cells": [
  {
   "cell_type": "code",
   "execution_count": 1,
   "metadata": {},
   "outputs": [],
   "source": [
    "import pandas as pd\n",
    "import numpy as np"
   ]
  },
  {
   "cell_type": "code",
   "execution_count": 30,
   "metadata": {},
   "outputs": [],
   "source": [
    "df = pd.read_csv('dataset/Spenser_1_5_standardize_coefficients.tsv', sep='\\t')\n",
    "\n",
    "rows = list(df.iterrows())"
   ]
  },
  {
   "cell_type": "code",
   "execution_count": 83,
   "metadata": {},
   "outputs": [],
   "source": [
    "def get_ape_coefficient(transaction, tid):\n",
    "    for row in rows[tid:]:\n",
    "        if row[1]['APECoeficient'] != ' ':\n",
    "            return float(row[1]['APECoeficient'])\n",
    "\n",
    "\n",
    "def check_consistency(transaction, tid):\n",
    "    label = transaction['OK'] if transaction['OK'] != ' ' else transaction['NOTOK']\n",
    "    ape = get_ape_coefficient(transaction, tid)\n",
    "    sape = float(transaction['SAPECoeficient'])\n",
    "    if sape == 0: # проверка за DivisionByZero exception\n",
    "        return True\n",
    "            \n",
    "    diff = (1.0 - (ape/sape))\n",
    "    \n",
    "    if label == 'ok':\n",
    "        if diff >= 0.15:\n",
    "            return False\n",
    "    else:\n",
    "        if diff < 0.15:\n",
    "            return False\n",
    "    return True"
   ]
  },
  {
   "cell_type": "code",
   "execution_count": 84,
   "metadata": {},
   "outputs": [
    {
     "name": "stdout",
     "output_type": "stream",
     "text": [
      "[]\n"
     ]
    }
   ],
   "source": [
    "inconsistencies = []\n",
    "for row in rows:\n",
    "    transaction = row[1]\n",
    "    if transaction['OK'] == ' ' and transaction['NOTOK'] == ' ': # трансакцијата не ја евалуирал контролор, не е важна\n",
    "        continue\n",
    "\n",
    "    if not check_consistency(transaction, row[0]):\n",
    "        inconsistencies.append(row[0]) \n",
    "    \n",
    "print(inconsistencies)"
   ]
  },
  {
   "cell_type": "markdown",
   "metadata": {},
   "source": [
    "Листата е празна, се' е во ред"
   ]
  },
  {
   "cell_type": "code",
   "execution_count": null,
   "metadata": {},
   "outputs": [],
   "source": []
  }
 ],
 "metadata": {
  "kernelspec": {
   "display_name": "Python 3",
   "language": "python",
   "name": "python3"
  },
  "language_info": {
   "codemirror_mode": {
    "name": "ipython",
    "version": 3
   },
   "file_extension": ".py",
   "mimetype": "text/x-python",
   "name": "python",
   "nbconvert_exporter": "python",
   "pygments_lexer": "ipython3",
   "version": "3.5.4"
  }
 },
 "nbformat": 4,
 "nbformat_minor": 2
}
